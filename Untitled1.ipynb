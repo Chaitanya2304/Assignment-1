{
  "nbformat": 4,
  "nbformat_minor": 0,
  "metadata": {
    "colab": {
      "name": "Untitled1.ipynb",
      "provenance": [],
      "collapsed_sections": [],
      "authorship_tag": "ABX9TyNK4EdlrLMbUlzAJVZJPkzA",
      "include_colab_link": true
    },
    "kernelspec": {
      "name": "python3",
      "display_name": "Python 3"
    }
  },
  "cells": [
    {
      "cell_type": "markdown",
      "metadata": {
        "id": "view-in-github",
        "colab_type": "text"
      },
      "source": [
        "<a href=\"https://colab.research.google.com/github/Chaitanya2304/Assignment-1/blob/master/Untitled1.ipynb\" target=\"_parent\"><img src=\"https://colab.research.google.com/assets/colab-badge.svg\" alt=\"Open In Colab\"/></a>"
      ]
    },
    {
      "cell_type": "markdown",
      "metadata": {
        "id": "KuGkSHrNnCAB",
        "colab_type": "text"
      },
      "source": [
        "1st question"
      ]
    },
    {
      "cell_type": "code",
      "metadata": {
        "id": "cEqL7f0oihhn",
        "colab_type": "code",
        "colab": {
          "base_uri": "https://localhost:8080/",
          "height": 50
        },
        "outputId": "49000b6f-5643-44f9-8948-d5620214d11a"
      },
      "source": [
        "y=int(input(\"enter the year;\"))\n",
        "A=[\"monkey\",\"rooster\",\"dog\",\"pig\",\"rat\",\"ox\",\"tiger\",\"rabbit\",\"dragon\",\"snake\",\"horse\",\"sheep\"]\n",
        "a=int(y%12)\n",
        "print(A[a])"
      ],
      "execution_count": null,
      "outputs": [
        {
          "output_type": "stream",
          "text": [
            "enter the year;2001\n",
            "snake\n"
          ],
          "name": "stdout"
        }
      ]
    },
    {
      "cell_type": "markdown",
      "metadata": {
        "id": "YZJDIPVsnMb9",
        "colab_type": "text"
      },
      "source": [
        "2nd question\n"
      ]
    },
    {
      "cell_type": "code",
      "metadata": {
        "id": "9jGRle5VlLz5",
        "colab_type": "code",
        "colab": {
          "base_uri": "https://localhost:8080/",
          "height": 67
        },
        "outputId": "22c789ce-ee48-4d6f-cb6c-40832ee89a99"
      },
      "source": [
        "dist=int(input(\"enter the distance\"))\n",
        "weight=int(input(\"enter the weight\"))\n",
        "if dist>=500:\n",
        "    if weight>=100:\n",
        "        charge=dist*5\n",
        "    elif weight>=10 and weight<100:\n",
        "        charge=dist*6\n",
        "    else:\n",
        "        charge=dist*7\n",
        "else:\n",
        "    if weight>=100:\n",
        "        charge=dist*8\n",
        "    else:\n",
        "        charge=dist*5\n",
        "print(\"total charge = \",charge)\n",
        "\n",
        "\n"
      ],
      "execution_count": null,
      "outputs": [
        {
          "output_type": "stream",
          "text": [
            "enter the distance80\n",
            "enter the weight55\n",
            "total charge =  400\n"
          ],
          "name": "stdout"
        }
      ]
    },
    {
      "cell_type": "markdown",
      "metadata": {
        "id": "AJeFMjMHrtaq",
        "colab_type": "text"
      },
      "source": [
        "3rd question"
      ]
    },
    {
      "cell_type": "code",
      "metadata": {
        "id": "Rb_0j3E0rwo3",
        "colab_type": "code",
        "colab": {
          "base_uri": "https://localhost:8080/",
          "height": 84
        },
        "outputId": "35eb03df-19c3-44fb-aa8d-e7a4c9bb7605"
      },
      "source": [
        "s=625\n",
        "c=750\n",
        "up=850\n",
        "b=100\n",
        "x=int(input('type of seat:'))\n",
        "print('do you pay through cash or card')\n",
        "y=str(input('payment mode:'))\n",
        "while y=='card':\n",
        "    z=x*5/100\n",
        "    cost=x-z\n",
        "    print('cost of ticket:',cost)\n",
        "else:    \n",
        "    if y=='cash':\n",
        "        w=x*10/100\n",
        "        cost=x-w\n",
        "        print('cost of ticket:',cost)  \n"
      ],
      "execution_count": null,
      "outputs": [
        {
          "output_type": "stream",
          "text": [
            "type of seat:850\n",
            "do you pay through cash or card\n",
            "payment mode:cash\n",
            "cost of ticket: 765.0\n"
          ],
          "name": "stdout"
        }
      ]
    },
    {
      "cell_type": "markdown",
      "metadata": {
        "id": "tBr9OCA8PVYZ",
        "colab_type": "text"
      },
      "source": [
        "4th question\n"
      ]
    },
    {
      "cell_type": "code",
      "metadata": {
        "id": "nrWdb8YhPYSp",
        "colab_type": "code",
        "colab": {
          "base_uri": "https://localhost:8080/",
          "height": 100
        },
        "outputId": "c675d6a8-9f6a-400a-dfcd-47f0b647664e"
      },
      "source": [
        "water=int(input(\"enter amount of water:\"))\n",
        "initemp=int(input(\"enter the initialtemp:\"))\n",
        "fintemp=int(input(\"enter the finaltemp:\"))\n",
        "energy=water*(fintemp-initemp)*4184\n",
        "print(\"energy in joules:\\n\",energy)"
      ],
      "execution_count": null,
      "outputs": [
        {
          "output_type": "stream",
          "text": [
            "enter amount of water:1000\n",
            "enter the initialtemp:25\n",
            "enter the finaltemp:100\n",
            "energy in joules:\n",
            " 313800000\n"
          ],
          "name": "stdout"
        }
      ]
    },
    {
      "cell_type": "markdown",
      "metadata": {
        "id": "TIg0ATkXZsmv",
        "colab_type": "text"
      },
      "source": [
        "5th question"
      ]
    },
    {
      "cell_type": "code",
      "metadata": {
        "id": "F8Fue8ZpZvme",
        "colab_type": "code",
        "colab": {
          "base_uri": "https://localhost:8080/",
          "height": 50
        },
        "outputId": "6633c3be-87ea-4ddc-af09-9b1e66232a44"
      },
      "source": [
        "winter=[\"december\",\"january\",\"february\"]\n",
        "spring=[\"march\",\"april\",\"may\"]\n",
        "summer=[\"june\",\"july\",\"august\"]\n",
        "autumn=[\"september\",\"october\",\"november\"]\n",
        "month=input(\"enter the month :: \")\n",
        "if month in winter:\n",
        "    print(\"it is a winter season\")\n",
        "elif month in spring:\n",
        "    print(\"it is a spring\")\n",
        "elif month in summer:\n",
        "    print(\"it is a summer\")\n",
        "else:\n",
        "    print(\"it is a autumn\")\n"
      ],
      "execution_count": null,
      "outputs": [
        {
          "output_type": "stream",
          "text": [
            "enter the month :: april\n",
            "it is a spring\n"
          ],
          "name": "stdout"
        }
      ]
    },
    {
      "cell_type": "markdown",
      "metadata": {
        "id": "-ak4bPSDlSwt",
        "colab_type": "text"
      },
      "source": [
        "6th question"
      ]
    },
    {
      "cell_type": "code",
      "metadata": {
        "id": "Zah9sRMslV2P",
        "colab_type": "code",
        "colab": {
          "base_uri": "https://localhost:8080/",
          "height": 67
        },
        "outputId": "dd4126de-0605-4ff3-aa4c-51fb5c519737"
      },
      "source": [
        "u_wt=int(input('enter your weight in pounds:'))\n",
        "u_ht=int(input('enter your height in inches:'))\n",
        "wt_kg=0.4535*u_wt\n",
        "ht_mt=0.0254*u_ht\n",
        "BMI=wt_kg/(ht_mt)*(ht_mt)\n",
        "BMI\n",
        "if BMI<18.5:\n",
        "    print('under weight')\n",
        "elif 18.5<=BMI<25.0:\n",
        "    print('Normal')\n",
        "elif 25.0<=BMI<30.0:\n",
        "    print('over weight')\n",
        "elif 30.0<=BMI:\n",
        "    print('obesity')"
      ],
      "execution_count": null,
      "outputs": [
        {
          "output_type": "stream",
          "text": [
            "enter your weight in pounds:26\n",
            "enter your height in inches:150\n",
            "under weight\n"
          ],
          "name": "stdout"
        }
      ]
    },
    {
      "cell_type": "markdown",
      "metadata": {
        "id": "jrcvV62Ym26Y",
        "colab_type": "text"
      },
      "source": [
        "7th question"
      ]
    },
    {
      "cell_type": "code",
      "metadata": {
        "id": "9OtDJSf0m8CO",
        "colab_type": "code",
        "colab": {
          "base_uri": "https://localhost:8080/",
          "height": 50
        },
        "outputId": "f6736dd6-d691-47c1-a36a-732ae1b891ad"
      },
      "source": [
        "num=int(input(\"enter a number between 100 and 1000 :: \"))\n",
        "rem=0\n",
        "sum=0\n",
        "if(num>100 and num<1000):\n",
        "    while num>0:\n",
        "        rem=num%10\n",
        "        sum=sum+rem\n",
        "        num=num//10\n",
        "    print(sum)\n",
        "else:\n",
        "    print(\"the number entered is not in the range\")\n",
        "\n"
      ],
      "execution_count": null,
      "outputs": [
        {
          "output_type": "stream",
          "text": [
            "enter a number between 100 and 1000 :: 111\n",
            "3\n"
          ],
          "name": "stdout"
        }
      ]
    },
    {
      "cell_type": "markdown",
      "metadata": {
        "id": "QqfDIguAnn-2",
        "colab_type": "text"
      },
      "source": [
        "8th question"
      ]
    },
    {
      "cell_type": "code",
      "metadata": {
        "id": "Eu5TgVJ2nqrq",
        "colab_type": "code",
        "colab": {
          "base_uri": "https://localhost:8080/",
          "height": 84
        },
        "outputId": "c1801f7d-6ed1-4cfa-b6b9-5d94fcbd4dc8"
      },
      "source": [
        "max=int(input('enter the max value:'))\n",
        "min=int(input('enter the min value'))\n",
        "print('palindrome numbers bbetween %d and %d are:',(min,max))\n",
        "for num in range (min,max+1):\n",
        "    temp=num\n",
        "    rev=0\n",
        "    while temp>0:\n",
        "        rem=temp%10\n",
        "        rev=(rev*10)+rem\n",
        "        temp=temp//10\n",
        "    if num==rev:\n",
        "        print('%d'%num,end=' ')"
      ],
      "execution_count": null,
      "outputs": [
        {
          "output_type": "stream",
          "text": [
            "enter the max value:50\n",
            "enter the min value20\n",
            "palindrome numbers bbetween %d and %d are: (20, 50)\n",
            "22 33 44 "
          ],
          "name": "stdout"
        }
      ]
    },
    {
      "cell_type": "markdown",
      "metadata": {
        "id": "jRIEuLjHq3bY",
        "colab_type": "text"
      },
      "source": [
        "9th question"
      ]
    },
    {
      "cell_type": "code",
      "metadata": {
        "id": "0ks8vH7Wq6NB",
        "colab_type": "code",
        "colab": {
          "base_uri": "https://localhost:8080/",
          "height": 100
        },
        "outputId": "af4f9443-2e9e-4c45-ee11-9625997dd66b"
      },
      "source": [
        "rem=0\n",
        "for i in range(1,1000):\n",
        "    n=i\n",
        "    rev=0\n",
        "    while n>0:\n",
        "        rem=n%10\n",
        "        rev=rev+rem**3\n",
        "        n=n//10\n",
        "    if i==rev:\n",
        "        print(i)\n"
      ],
      "execution_count": null,
      "outputs": [
        {
          "output_type": "stream",
          "text": [
            "1\n",
            "153\n",
            "370\n",
            "371\n",
            "407\n"
          ],
          "name": "stdout"
        }
      ]
    },
    {
      "cell_type": "markdown",
      "metadata": {
        "id": "38sN8___rS6e",
        "colab_type": "text"
      },
      "source": [
        "10th question"
      ]
    },
    {
      "cell_type": "code",
      "metadata": {
        "id": "0vY_PbPirWJC",
        "colab_type": "code",
        "colab": {
          "base_uri": "https://localhost:8080/",
          "height": 786
        },
        "outputId": "f9f287de-78b0-40cf-b9af-58fac012791f"
      },
      "source": [
        "for i in range(1,100):\n",
        "    if i%3==0 and i%5==0:\n",
        "        print(\"fizz buzz\")\n",
        "    elif i%3==0:\n",
        "        print(\"fizz\")\n",
        "    elif i%5==0:\n",
        "        print(\"buzz\")\n",
        "\n"
      ],
      "execution_count": null,
      "outputs": [
        {
          "output_type": "stream",
          "text": [
            "fizz\n",
            "buzz\n",
            "fizz\n",
            "fizz\n",
            "buzz\n",
            "fizz\n",
            "fizz buzz\n",
            "fizz\n",
            "buzz\n",
            "fizz\n",
            "fizz\n",
            "buzz\n",
            "fizz\n",
            "fizz buzz\n",
            "fizz\n",
            "buzz\n",
            "fizz\n",
            "fizz\n",
            "buzz\n",
            "fizz\n",
            "fizz buzz\n",
            "fizz\n",
            "buzz\n",
            "fizz\n",
            "fizz\n",
            "buzz\n",
            "fizz\n",
            "fizz buzz\n",
            "fizz\n",
            "buzz\n",
            "fizz\n",
            "fizz\n",
            "buzz\n",
            "fizz\n",
            "fizz buzz\n",
            "fizz\n",
            "buzz\n",
            "fizz\n",
            "fizz\n",
            "buzz\n",
            "fizz\n",
            "fizz buzz\n",
            "fizz\n",
            "buzz\n",
            "fizz\n",
            "fizz\n"
          ],
          "name": "stdout"
        }
      ]
    },
    {
      "cell_type": "markdown",
      "metadata": {
        "id": "2x5LdTQ5sURa",
        "colab_type": "text"
      },
      "source": [
        "11th question"
      ]
    },
    {
      "cell_type": "code",
      "metadata": {
        "id": "UzImuwwOsXLa",
        "colab_type": "code",
        "colab": {
          "base_uri": "https://localhost:8080/",
          "height": 84
        },
        "outputId": "c6ba6f5f-9f3e-41ed-8297-397e964aa99b"
      },
      "source": [
        "h=int(input(\"enter height of the well :: \"))\n",
        "u=int(input(\"enter the meters spider climb up for each sstep :: \"))\n",
        "d=int(input(\"enter the meters the spider slips down for each step :: \"))\n",
        "s=0\n",
        "t=0\n",
        "p=0\n",
        "while t<=h:\n",
        "    t=t+u\n",
        "    if(t<=h):\n",
        "        t=t-d\n",
        "    s=s+1\n",
        "print(s)\n",
        "\n",
        "\n"
      ],
      "execution_count": 27,
      "outputs": [
        {
          "output_type": "stream",
          "text": [
            "enter height of the well :: 50\n",
            "enter the meters spider climb up for each sstep :: 40\n",
            "enter the meters the spider slips down for each step :: 30\n",
            "3\n"
          ],
          "name": "stdout"
        }
      ]
    }
  ]
}